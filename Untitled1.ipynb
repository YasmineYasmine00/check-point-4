{
  "nbformat": 4,
  "nbformat_minor": 0,
  "metadata": {
    "colab": {
      "name": "Untitled1.ipynb",
      "provenance": []
    },
    "kernelspec": {
      "name": "python3",
      "display_name": "Python 3"
    },
    "language_info": {
      "name": "python"
    }
  },
  "cells": [
    {
      "cell_type": "code",
      "source": [
        "\n",
        "def max(x,y,z):\n",
        "  if x>=y and x>=z:\n",
        "    return x\n",
        "  elif y>=x and y>=z:\n",
        "    return y\n",
        "  else:\n",
        "    return z \n",
        "max(10,20,30)\n",
        "\n",
        "\n"
      ],
      "metadata": {
        "colab": {
          "base_uri": "https://localhost:8080/"
        },
        "id": "XkC4LOjmbCne",
        "outputId": "eb74e301-859f-4464-f131-a93f8d468ed0"
      },
      "execution_count": null,
      "outputs": [
        {
          "output_type": "execute_result",
          "data": {
            "text/plain": [
              "30"
            ]
          },
          "metadata": {},
          "execution_count": 41
        }
      ]
    },
    {
      "cell_type": "code",
      "source": [
        "l= [1,2,3]\n",
        "def somme_list(l):\n",
        "  s=0 \n",
        "  for i in range(len(l)):\n",
        "    s=s+l[i]\n",
        "  return s\n",
        "somme_list(l)"
      ],
      "metadata": {
        "colab": {
          "base_uri": "https://localhost:8080/"
        },
        "id": "C-O-kCutg7ki",
        "outputId": "dbaffd78-8ec9-4ab7-8310-e7e2cc0cfa53"
      },
      "execution_count": null,
      "outputs": [
        {
          "output_type": "execute_result",
          "data": {
            "text/plain": [
              "6"
            ]
          },
          "metadata": {},
          "execution_count": 43
        }
      ]
    },
    {
      "cell_type": "code",
      "source": [
        "\n",
        "def multiple_list(l):\n",
        "  m=1 \n",
        "  for i in range(len(l)):\n",
        "       m=m*l[i]\n",
        "  return m\n",
        "multiple_list(l)"
      ],
      "metadata": {
        "colab": {
          "base_uri": "https://localhost:8080/"
        },
        "id": "32FF-_RaifRz",
        "outputId": "a0c869bc-794c-47ef-c23e-f709f6ada3b9"
      },
      "execution_count": null,
      "outputs": [
        {
          "output_type": "execute_result",
          "data": {
            "text/plain": [
              "6"
            ]
          },
          "metadata": {},
          "execution_count": 44
        }
      ]
    },
    {
      "cell_type": "code",
      "source": [
        "l=[2,4,3,2]\n",
        "def somme_multi(l):\n",
        "    p=[]\n",
        "    I=[]\n",
        "    for i in range (len(l)):\n",
        "       if i %2==0:\n",
        "            p.append(l[i])\n",
        "       else:\n",
        "            I.append(l[i])\n",
        "    return somme_list(p),multiple_list(I)\n",
        "\n",
        "somme_multi(l)\n",
        "\n",
        "\n"
      ],
      "metadata": {
        "colab": {
          "base_uri": "https://localhost:8080/"
        },
        "id": "tYHBM6IvkZgH",
        "outputId": "24a4ea2c-9ddf-446d-8c7f-cb8720b64957"
      },
      "execution_count": null,
      "outputs": [
        {
          "output_type": "execute_result",
          "data": {
            "text/plain": [
              "(5, 8)"
            ]
          },
          "metadata": {},
          "execution_count": 53
        }
      ]
    },
    {
      "cell_type": "code",
      "source": [
        "\n",
        "def ch():\n",
        "  i=input().split(\"-\")\n",
        "  i.sort() \n",
        "  print(\"-\".join(i))\n",
        "ch()\n",
        "\n"
      ],
      "metadata": {
        "colab": {
          "base_uri": "https://localhost:8080/"
        },
        "id": "2sAv3Ie_o-BK",
        "outputId": "c586cdfd-d09b-4fec-8d39-d70b56331334"
      },
      "execution_count": null,
      "outputs": [
        {
          "output_type": "stream",
          "name": "stdout",
          "text": [
            "rouge-bleu-jaune-gris-noire\n",
            "bleu-gris-jaune-noire-rouge\n"
          ]
        }
      ]
    },
    {
      "cell_type": "code",
      "source": [
        "import math\n",
        "def calcul_sqrt():\n",
        "    n=input(\"entrer la valeur D: \")\n",
        "    n=n.split(\",\")\n",
        "    res=[]\n",
        "    for D in n:\n",
        "        Q= round(math.sqrt(2*50*int(D)/30))\n",
        "        res.append(Q)\n",
        "    print(res)\n",
        "\n",
        "calcul_sqrt()\n",
        "         "
      ],
      "metadata": {
        "colab": {
          "base_uri": "https://localhost:8080/"
        },
        "id": "X58G8E6_rzqn",
        "outputId": "d4383ea0-f72f-422c-9952-5b095cec3e52"
      },
      "execution_count": null,
      "outputs": [
        {
          "output_type": "stream",
          "name": "stdout",
          "text": [
            "entrer la valeur D: 100,150,130\n",
            "[18, 22, 21]\n"
          ]
        }
      ]
    }
  ]
}